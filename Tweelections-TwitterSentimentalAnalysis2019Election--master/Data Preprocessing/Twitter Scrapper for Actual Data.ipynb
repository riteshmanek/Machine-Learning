{
 "cells": [
  {
   "cell_type": "code",
   "execution_count": 1,
   "metadata": {},
   "outputs": [],
   "source": [
    "import json\n",
    "import csv\n",
    "import tweepy\n",
    "import re"
   ]
  },
  {
   "cell_type": "code",
   "execution_count": 2,
   "metadata": {},
   "outputs": [],
   "source": [
    "\"\"\"INPUTS:\n",
    "    consumer_key, consumer_secret, access_token, access_token_secret: codes \n",
    "    telling twitter that we are authorized to access this data\n",
    "    hashtag_phrase: the combination of hashtags to search for\n",
    "OUTPUTS:\n",
    "    none, simply save the tweet info to a spreadsheet\"\"\"\n",
    "\n",
    "def search_for_hashtags(consumer_key, consumer_secret, access_token, access_token_secret, hashtag_phrase):\n",
    "    \n",
    "    #create authentication for accessing Twitter\n",
    "    auth = tweepy.OAuthHandler(consumer_key, consumer_secret)\n",
    "    auth.set_access_token(access_token, access_token_secret)\n",
    "\n",
    "    #initialize Tweepy API\n",
    "    api = tweepy.API(auth,wait_on_rate_limit=True)\n",
    "    \n",
    "    #get the name of the spreadsheet we will write to\n",
    "    fname = '_'.join(re.findall(r\"#(\\w+)\", hashtag_phrase))\n",
    "\n",
    "    #open the spreadsheet we will write to\n",
    "    with open('%s.csv' % (fname), 'w') as file:\n",
    "\n",
    "        w = csv.writer(file)\n",
    "        #write header row to spreadsheet\n",
    "        w.writerow(['timestamp','id','tweet_text', 'username', 'followers_count', 'favorite_count','location', 'city', 'country', 'coordinates'])\n",
    "        #for each tweet matching our hashtags, write relevant info to the spreadsheet\n",
    "        for tweet in tweepy.Cursor(api.search, q=hashtag_phrase+' -retweets', lang = 'en', tweet_mode='extended').items(5005):\n",
    "            created_at = tweet.created_at\n",
    "            id = tweet.id\n",
    "            tweet_text = tweet.full_text.replace('\\n',' ').encode('utf-8')\n",
    "            username = tweet.user.screen_name.encode('utf-8')\n",
    "            followers_count = tweet.user.followers_count\n",
    "            likes = tweet.favorite_count\n",
    "            user_location = tweet.user.location.encode('utf-8')\n",
    "            \n",
    "            if tweet.place is None:\n",
    "                city = ' '\n",
    "            elif tweet.place.name is None:\n",
    "                city = ' '\n",
    "            else:\n",
    "                city = tweet.place.name.encode('utf-8')\n",
    "            \n",
    "            if tweet.place is None:\n",
    "                country = ' '\n",
    "            elif tweet.place.country is None:\n",
    "                country = ' '\n",
    "            else:\n",
    "                country = tweet.place.country.encode('utf-8')\n",
    "            \n",
    "            if tweet.coordinates is None:\n",
    "                coordinates = ' '\n",
    "            else:\n",
    "                coordinates = tweet.coordinates\n",
    "            \n",
    "            w.writerow([created_at, id, tweet_text, username, followers_count, likes, user_location, city, country, coordinates])"
   ]
  },
  {
   "cell_type": "code",
   "execution_count": 3,
   "metadata": {},
   "outputs": [],
   "source": [
    "consumer_key = '9VatbXICZJLZpm9fluJsUM7Jb'\n",
    "consumer_secret = 'ds8ER0zLJNc3gM9jOHLmQ1qn8KaJ1IcA2gSiTDHfose6lmUSP5'\n",
    "access_token = '1116752952251826176-zlAM7Ru2T08lcAwGPSntUH77JaFmFs'\n",
    "access_token_secret = 'b3DiOPMfxBuUfUKKXZedmYFQlvd9wT4Ma26Xo3NtkWcba'\n",
    "    \n",
    "hashtag_phrase = '#hardikyashkrinarasika'\n",
    "\n",
    "if __name__ == '__main__':\n",
    "    search_for_hashtags(consumer_key, consumer_secret, access_token, access_token_secret, hashtag_phrase)"
   ]
  },
  {
   "cell_type": "code",
   "execution_count": 4,
   "metadata": {},
   "outputs": [],
   "source": [
    "consumer_key = '9VatbXICZJLZpm9fluJsUM7Jb'\n",
    "consumer_secret = 'ds8ER0zLJNc3gM9jOHLmQ1qn8KaJ1IcA2gSiTDHfose6lmUSP5'\n",
    "access_token = '1116752952251826176-zlAM7Ru2T08lcAwGPSntUH77JaFmFs'\n",
    "access_token_secret = 'b3DiOPMfxBuUfUKKXZedmYFQlvd9wT4Ma26Xo3NtkWcba'\n",
    "    \n",
    "hashtag_phrase = '#IndiaVotes'\n",
    "\n",
    "if __name__ == '__main__':\n",
    "    search_for_hashtags(consumer_key, consumer_secret, access_token, access_token_secret, hashtag_phrase)"
   ]
  },
  {
   "cell_type": "code",
   "execution_count": 5,
   "metadata": {},
   "outputs": [],
   "source": [
    "consumer_key = '9VatbXICZJLZpm9fluJsUM7Jb'\n",
    "consumer_secret = 'ds8ER0zLJNc3gM9jOHLmQ1qn8KaJ1IcA2gSiTDHfose6lmUSP5'\n",
    "access_token = '1116752952251826176-zlAM7Ru2T08lcAwGPSntUH77JaFmFs'\n",
    "access_token_secret = 'b3DiOPMfxBuUfUKKXZedmYFQlvd9wT4Ma26Xo3NtkWcba'\n",
    "    \n",
    "hashtag_phrase = '#LokSabhaElections2019'\n",
    "\n",
    "if __name__ == '__main__':\n",
    "    search_for_hashtags(consumer_key, consumer_secret, access_token, access_token_secret, hashtag_phrase)"
   ]
  },
  {
   "cell_type": "code",
   "execution_count": 6,
   "metadata": {},
   "outputs": [],
   "source": [
    "consumer_key = '9VatbXICZJLZpm9fluJsUM7Jb'\n",
    "consumer_secret = 'ds8ER0zLJNc3gM9jOHLmQ1qn8KaJ1IcA2gSiTDHfose6lmUSP5'\n",
    "access_token = '1116752952251826176-zlAM7Ru2T08lcAwGPSntUH77JaFmFs'\n",
    "access_token_secret = 'b3DiOPMfxBuUfUKKXZedmYFQlvd9wT4Ma26Xo3NtkWcba'\n",
    "    \n",
    "hashtag_phrase = '#IndiaElections2019'\n",
    "\n",
    "if __name__ == '__main__':\n",
    "    search_for_hashtags(consumer_key, consumer_secret, access_token, access_token_secret, hashtag_phrase)"
   ]
  },
  {
   "cell_type": "code",
   "execution_count": null,
   "metadata": {},
   "outputs": [],
   "source": [
    "consumer_key = '9VatbXICZJLZpm9fluJsUM7Jb'\n",
    "consumer_secret = 'ds8ER0zLJNc3gM9jOHLmQ1qn8KaJ1IcA2gSiTDHfose6lmUSP5'\n",
    "access_token = '1116752952251826176-zlAM7Ru2T08lcAwGPSntUH77JaFmFs'\n",
    "access_token_secret = 'b3DiOPMfxBuUfUKKXZedmYFQlvd9wT4Ma26Xo3NtkWcba'\n",
    "    \n",
    "hashtag_phrase = '#Elections2019'\n",
    "\n",
    "if __name__ == '__main__':\n",
    "    search_for_hashtags(consumer_key, consumer_secret, access_token, access_token_secret, hashtag_phrase)"
   ]
  },
  {
   "cell_type": "code",
   "execution_count": null,
   "metadata": {},
   "outputs": [],
   "source": [
    "consumer_key = '9VatbXICZJLZpm9fluJsUM7Jb'\n",
    "consumer_secret = 'ds8ER0zLJNc3gM9jOHLmQ1qn8KaJ1IcA2gSiTDHfose6lmUSP5'\n",
    "access_token = '1116752952251826176-zlAM7Ru2T08lcAwGPSntUH77JaFmFs'\n",
    "access_token_secret = 'b3DiOPMfxBuUfUKKXZedmYFQlvd9wT4Ma26Xo3NtkWcba'\n",
    "    \n",
    "hashtag_phrase = '#aap'\n",
    "\n",
    "if __name__ == '__main__':\n",
    "    search_for_hashtags(consumer_key, consumer_secret, access_token, access_token_secret, hashtag_phrase)"
   ]
  },
  {
   "cell_type": "code",
   "execution_count": null,
   "metadata": {},
   "outputs": [],
   "source": [
    "consumer_key = '9VatbXICZJLZpm9fluJsUM7Jb'\n",
    "consumer_secret = 'ds8ER0zLJNc3gM9jOHLmQ1qn8KaJ1IcA2gSiTDHfose6lmUSP5'\n",
    "access_token = '1116752952251826176-zlAM7Ru2T08lcAwGPSntUH77JaFmFs'\n",
    "access_token_secret = 'b3DiOPMfxBuUfUKKXZedmYFQlvd9wT4Ma26Xo3NtkWcba'\n",
    "    \n",
    "hashtag_phrase = '#modi'\n",
    "\n",
    "if __name__ == '__main__':\n",
    "    search_for_hashtags(consumer_key, consumer_secret, access_token, access_token_secret, hashtag_phrase)"
   ]
  },
  {
   "cell_type": "code",
   "execution_count": null,
   "metadata": {},
   "outputs": [],
   "source": [
    "consumer_key = '9VatbXICZJLZpm9fluJsUM7Jb'\n",
    "consumer_secret = 'ds8ER0zLJNc3gM9jOHLmQ1qn8KaJ1IcA2gSiTDHfose6lmUSP5'\n",
    "access_token = '1116752952251826176-zlAM7Ru2T08lcAwGPSntUH77JaFmFs'\n",
    "access_token_secret = 'b3DiOPMfxBuUfUKKXZedmYFQlvd9wT4Ma26Xo3NtkWcba'\n",
    "    \n",
    "hashtag_phrase = '#BJPfails'\n",
    "\n",
    "if __name__ == '__main__':\n",
    "    search_for_hashtags(consumer_key, consumer_secret, access_token, access_token_secret, hashtag_phrase)"
   ]
  },
  {
   "cell_type": "code",
   "execution_count": null,
   "metadata": {},
   "outputs": [],
   "source": [
    "consumer_key = '9VatbXICZJLZpm9fluJsUM7Jb'\n",
    "consumer_secret = 'ds8ER0zLJNc3gM9jOHLmQ1qn8KaJ1IcA2gSiTDHfose6lmUSP5'\n",
    "access_token = '1116752952251826176-zlAM7Ru2T08lcAwGPSntUH77JaFmFs'\n",
    "access_token_secret = 'b3DiOPMfxBuUfUKKXZedmYFQlvd9wT4Ma26Xo3NtkWcba'\n",
    "    \n",
    "hashtag_phrase = '#NarendraModi'\n",
    "\n",
    "if __name__ == '__main__':\n",
    "    search_for_hashtags(consumer_key, consumer_secret, access_token, access_token_secret, hashtag_phrase)"
   ]
  },
  {
   "cell_type": "code",
   "execution_count": null,
   "metadata": {},
   "outputs": [],
   "source": [
    "consumer_key = '9VatbXICZJLZpm9fluJsUM7Jb'\n",
    "consumer_secret = 'ds8ER0zLJNc3gM9jOHLmQ1qn8KaJ1IcA2gSiTDHfose6lmUSP5'\n",
    "access_token = '1116752952251826176-zlAM7Ru2T08lcAwGPSntUH77JaFmFs'\n",
    "access_token_secret = 'b3DiOPMfxBuUfUKKXZedmYFQlvd9wT4Ma26Xo3NtkWcba'\n",
    "    \n",
    "hashtag_phrase = '#ModiNeverAgain'\n",
    "\n",
    "if __name__ == '__main__':\n",
    "    search_for_hashtags(consumer_key, consumer_secret, access_token, access_token_secret, hashtag_phrase)"
   ]
  },
  {
   "cell_type": "code",
   "execution_count": null,
   "metadata": {},
   "outputs": [],
   "source": [
    "consumer_key = '9VatbXICZJLZpm9fluJsUM7Jb'\n",
    "consumer_secret = 'ds8ER0zLJNc3gM9jOHLmQ1qn8KaJ1IcA2gSiTDHfose6lmUSP5'\n",
    "access_token = '1116752952251826176-zlAM7Ru2T08lcAwGPSntUH77JaFmFs'\n",
    "access_token_secret = 'b3DiOPMfxBuUfUKKXZedmYFQlvd9wT4Ma26Xo3NtkWcba'\n",
    "    \n",
    "hashtag_phrase = '#GeneralElections2019'\n",
    "\n",
    "if __name__ == '__main__':\n",
    "    search_for_hashtags(consumer_key, consumer_secret, access_token, access_token_secret, hashtag_phrase)"
   ]
  },
  {
   "cell_type": "code",
   "execution_count": null,
   "metadata": {},
   "outputs": [],
   "source": [
    "consumer_key = '9VatbXICZJLZpm9fluJsUM7Jb'\n",
    "consumer_secret = 'ds8ER0zLJNc3gM9jOHLmQ1qn8KaJ1IcA2gSiTDHfose6lmUSP5'\n",
    "access_token = '1116752952251826176-zlAM7Ru2T08lcAwGPSntUH77JaFmFs'\n",
    "access_token_secret = 'b3DiOPMfxBuUfUKKXZedmYFQlvd9wT4Ma26Xo3NtkWcba'\n",
    "    \n",
    "hashtag_phrase = '#IndiaWantsModiAgain'\n",
    "\n",
    "if __name__ == '__main__':\n",
    "    search_for_hashtags(consumer_key, consumer_secret, access_token, access_token_secret, hashtag_phrase)"
   ]
  },
  {
   "cell_type": "code",
   "execution_count": null,
   "metadata": {},
   "outputs": [],
   "source": [
    "consumer_key = '9VatbXICZJLZpm9fluJsUM7Jb'\n",
    "consumer_secret = 'ds8ER0zLJNc3gM9jOHLmQ1qn8KaJ1IcA2gSiTDHfose6lmUSP5'\n",
    "access_token = '1116752952251826176-zlAM7Ru2T08lcAwGPSntUH77JaFmFs'\n",
    "access_token_secret = 'b3DiOPMfxBuUfUKKXZedmYFQlvd9wT4Ma26Xo3NtkWcba'\n",
    "    \n",
    "hashtag_phrase = '#BharatMangeModiDobara'\n",
    "\n",
    "if __name__ == '__main__':\n",
    "    search_for_hashtags(consumer_key, consumer_secret, access_token, access_token_secret, hashtag_phrase)"
   ]
  },
  {
   "cell_type": "code",
   "execution_count": null,
   "metadata": {},
   "outputs": [],
   "source": [
    "consumer_key = '9VatbXICZJLZpm9fluJsUM7Jb'\n",
    "consumer_secret = 'ds8ER0zLJNc3gM9jOHLmQ1qn8KaJ1IcA2gSiTDHfose6lmUSP5'\n",
    "access_token = '1116752952251826176-zlAM7Ru2T08lcAwGPSntUH77JaFmFs'\n",
    "access_token_secret = 'b3DiOPMfxBuUfUKKXZedmYFQlvd9wT4Ma26Xo3NtkWcba'\n",
    "    \n",
    "hashtag_phrase = '#VoteForNewIndia'\n",
    "\n",
    "if __name__ == '__main__':\n",
    "    search_for_hashtags(consumer_key, consumer_secret, access_token, access_token_secret, hashtag_phrase)"
   ]
  },
  {
   "cell_type": "code",
   "execution_count": null,
   "metadata": {},
   "outputs": [],
   "source": [
    "consumer_key = '9VatbXICZJLZpm9fluJsUM7Jb'\n",
    "consumer_secret = 'ds8ER0zLJNc3gM9jOHLmQ1qn8KaJ1IcA2gSiTDHfose6lmUSP5'\n",
    "access_token = '1116752952251826176-zlAM7Ru2T08lcAwGPSntUH77JaFmFs'\n",
    "access_token_secret = 'b3DiOPMfxBuUfUKKXZedmYFQlvd9wT4Ma26Xo3NtkWcba'\n",
    "    \n",
    "hashtag_phrase = '#VoteNyayVoteCongress'\n",
    "\n",
    "if __name__ == '__main__':\n",
    "    search_for_hashtags(consumer_key, consumer_secret, access_token, access_token_secret, hashtag_phrase)"
   ]
  },
  {
   "cell_type": "code",
   "execution_count": null,
   "metadata": {},
   "outputs": [],
   "source": [
    "consumer_key = '9VatbXICZJLZpm9fluJsUM7Jb'\n",
    "consumer_secret = 'ds8ER0zLJNc3gM9jOHLmQ1qn8KaJ1IcA2gSiTDHfose6lmUSP5'\n",
    "access_token = '1116752952251826176-zlAM7Ru2T08lcAwGPSntUH77JaFmFs'\n",
    "access_token_secret = 'b3DiOPMfxBuUfUKKXZedmYFQlvd9wT4Ma26Xo3NtkWcba'\n",
    "    \n",
    "hashtag_phrase = '#IndiaMaangeNyay'\n",
    "\n",
    "if __name__ == '__main__':\n",
    "    search_for_hashtags(consumer_key, consumer_secret, access_token, access_token_secret, hashtag_phrase)"
   ]
  },
  {
   "cell_type": "code",
   "execution_count": null,
   "metadata": {},
   "outputs": [],
   "source": [
    "filenames = ['hardikyashkrinarasika.csv', 'IndiaVotes.csv','LokSabhaElections2019.csv',\n",
    "             'IndiaElections2019.csv','Elections2019.csv','aap.csv',\n",
    "             'modi.csv','BJPfails.csv','NarendraModi.csv',\n",
    "            'ModiNeverAgain.csv','GeneralElections2019.csv','IndiaWantsModiAgain.csv', 'BharatMangeModiDobara.csv',\n",
    "             'VoteForNewIndia.csv','VoteNyayVoteCongress.csv','IndiaMaangeNyay.csv']\n",
    "combined_csv = pd.concat( [ pd.read_csv(f) for f in filenames ] )\n",
    "combined_csv.to_csv( \"training-dataset-final.csv\", index=False )"
   ]
  }
 ],
 "metadata": {
  "kernelspec": {
   "display_name": "Python 3",
   "language": "python",
   "name": "python3"
  },
  "language_info": {
   "codemirror_mode": {
    "name": "ipython",
    "version": 3
   },
   "file_extension": ".py",
   "mimetype": "text/x-python",
   "name": "python",
   "nbconvert_exporter": "python",
   "pygments_lexer": "ipython3",
   "version": "3.7.1"
  }
 },
 "nbformat": 4,
 "nbformat_minor": 2
}
