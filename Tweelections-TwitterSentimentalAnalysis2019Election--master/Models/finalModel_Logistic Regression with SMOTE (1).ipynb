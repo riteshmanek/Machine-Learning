{
 "cells": [
  {
   "cell_type": "markdown",
   "metadata": {},
   "source": [
    "# Logistic Regression with Synthetic Minority Oversampling Technique"
   ]
  },
  {
   "cell_type": "code",
   "execution_count": 1,
   "metadata": {
    "scrolled": false
   },
   "outputs": [
    {
     "data": {
      "text/html": [
       "<div>\n",
       "<style scoped>\n",
       "    .dataframe tbody tr th:only-of-type {\n",
       "        vertical-align: middle;\n",
       "    }\n",
       "\n",
       "    .dataframe tbody tr th {\n",
       "        vertical-align: top;\n",
       "    }\n",
       "\n",
       "    .dataframe thead th {\n",
       "        text-align: right;\n",
       "    }\n",
       "</style>\n",
       "<table border=\"1\" class=\"dataframe\">\n",
       "  <thead>\n",
       "    <tr style=\"text-align: right;\">\n",
       "      <th></th>\n",
       "      <th>user</th>\n",
       "      <th>fullname</th>\n",
       "      <th>tweet-id</th>\n",
       "      <th>timestamp</th>\n",
       "      <th>url</th>\n",
       "      <th>likes</th>\n",
       "      <th>replies</th>\n",
       "      <th>retweets</th>\n",
       "      <th>tweet_text</th>\n",
       "      <th>party</th>\n",
       "      <th>is_duplicate</th>\n",
       "      <th>mood</th>\n",
       "      <th>polarity</th>\n",
       "      <th>compound_score</th>\n",
       "    </tr>\n",
       "  </thead>\n",
       "  <tbody>\n",
       "    <tr>\n",
       "      <th>0</th>\n",
       "      <td>PNJoshiACM</td>\n",
       "      <td>#Chowkidar PiyushJoshi 🇮🇳Unity विकास</td>\n",
       "      <td>1.117050e+18</td>\n",
       "      <td>4/13/2019 13:11</td>\n",
       "      <td>/PNJoshiACM/status/1117052634119143431</td>\n",
       "      <td>1.0</td>\n",
       "      <td>0.0</td>\n",
       "      <td>1.0</td>\n",
       "      <td>great rememb everyvotecount narishakti prove m...</td>\n",
       "      <td>BJP</td>\n",
       "      <td>False</td>\n",
       "      <td>neutral</td>\n",
       "      <td>0.900000</td>\n",
       "      <td>0.9022</td>\n",
       "    </tr>\n",
       "    <tr>\n",
       "      <th>1</th>\n",
       "      <td>Pradeep20221694</td>\n",
       "      <td>Pradeep Gautam</td>\n",
       "      <td>1.116020e+18</td>\n",
       "      <td>4/10/2019 16:42</td>\n",
       "      <td>/Pradeep20221694/status/1116018656935280640</td>\n",
       "      <td>0.0</td>\n",
       "      <td>0.0</td>\n",
       "      <td>0.0</td>\n",
       "      <td>select right govt india plea vote vote stop wa...</td>\n",
       "      <td>BJP</td>\n",
       "      <td>False</td>\n",
       "      <td>happiness</td>\n",
       "      <td>0.142857</td>\n",
       "      <td>-0.2960</td>\n",
       "    </tr>\n",
       "    <tr>\n",
       "      <th>2</th>\n",
       "      <td>AdityaMudigond_</td>\n",
       "      <td>Chowkidar Aditya Mudigonda ఆదిత్య ముదిగొండ</td>\n",
       "      <td>1.116000e+18</td>\n",
       "      <td>4/10/2019 15:21</td>\n",
       "      <td>/AdityaMudigond_/status/1115998274278658048</td>\n",
       "      <td>0.0</td>\n",
       "      <td>0.0</td>\n",
       "      <td>0.0</td>\n",
       "      <td>kudo artist via wa bharatmangemodidobara phire...</td>\n",
       "      <td>BJP</td>\n",
       "      <td>False</td>\n",
       "      <td>faith</td>\n",
       "      <td>0.000000</td>\n",
       "      <td>0.0000</td>\n",
       "    </tr>\n",
       "    <tr>\n",
       "      <th>3</th>\n",
       "      <td>chowkidar_bhakt</td>\n",
       "      <td>चौकीदार लाल टमाटर</td>\n",
       "      <td>1.115930e+18</td>\n",
       "      <td>4/10/2019 10:49</td>\n",
       "      <td>/chowkidar_bhakt/status/1115929827708624898</td>\n",
       "      <td>1.0</td>\n",
       "      <td>0.0</td>\n",
       "      <td>0.0</td>\n",
       "      <td>also need confid level like narendra modi sure...</td>\n",
       "      <td>BJP</td>\n",
       "      <td>False</td>\n",
       "      <td>support</td>\n",
       "      <td>0.500000</td>\n",
       "      <td>0.5859</td>\n",
       "    </tr>\n",
       "    <tr>\n",
       "      <th>4</th>\n",
       "      <td>aloktaparia</td>\n",
       "      <td>Chowkidar Alok Taparia</td>\n",
       "      <td>1.120100e+18</td>\n",
       "      <td>4/21/2019 23:16</td>\n",
       "      <td>/aloktaparia/status/1120103978287550465</td>\n",
       "      <td>1.0</td>\n",
       "      <td>0.0</td>\n",
       "      <td>0.0</td>\n",
       "      <td>reduc standard fake news peddler master apolog...</td>\n",
       "      <td>BJP</td>\n",
       "      <td>False</td>\n",
       "      <td>support</td>\n",
       "      <td>-0.100000</td>\n",
       "      <td>-0.4767</td>\n",
       "    </tr>\n",
       "    <tr>\n",
       "      <th>5</th>\n",
       "      <td>devendar_ch</td>\n",
       "      <td>Devendar choudhary</td>\n",
       "      <td>1.120090e+18</td>\n",
       "      <td>4/21/2019 22:26</td>\n",
       "      <td>/devendar_ch/status/1120091537948282880</td>\n",
       "      <td>1.0</td>\n",
       "      <td>0.0</td>\n",
       "      <td>0.0</td>\n",
       "      <td>ask proof strike small matter simpli ask proof...</td>\n",
       "      <td>BJP</td>\n",
       "      <td>False</td>\n",
       "      <td>neutral</td>\n",
       "      <td>-0.250000</td>\n",
       "      <td>-0.1027</td>\n",
       "    </tr>\n",
       "    <tr>\n",
       "      <th>6</th>\n",
       "      <td>NikhilChelsea12</td>\n",
       "      <td>Chowkidar Nikhil</td>\n",
       "      <td>1.120070e+18</td>\n",
       "      <td>4/21/2019 21:12</td>\n",
       "      <td>/NikhilChelsea12/status/1120072720111112193</td>\n",
       "      <td>1.0</td>\n",
       "      <td>0.0</td>\n",
       "      <td>0.0</td>\n",
       "      <td>put decemb video dalal show frustrat bharatman...</td>\n",
       "      <td>BJP</td>\n",
       "      <td>False</td>\n",
       "      <td>neutral</td>\n",
       "      <td>0.000000</td>\n",
       "      <td>0.0000</td>\n",
       "    </tr>\n",
       "    <tr>\n",
       "      <th>7</th>\n",
       "      <td>langer_abbie</td>\n",
       "      <td>Chowkidar Abhi Langer 🇮🇳</td>\n",
       "      <td>1.120060e+18</td>\n",
       "      <td>4/21/2019 20:03</td>\n",
       "      <td>/langer_abbie/status/1120055366039904256</td>\n",
       "      <td>0.0</td>\n",
       "      <td>0.0</td>\n",
       "      <td>0.0</td>\n",
       "      <td>luvli aroma modiagain modiwaapisayega ekbaarph...</td>\n",
       "      <td>BJP</td>\n",
       "      <td>False</td>\n",
       "      <td>neutral</td>\n",
       "      <td>0.000000</td>\n",
       "      <td>0.0000</td>\n",
       "    </tr>\n",
       "    <tr>\n",
       "      <th>8</th>\n",
       "      <td>RahulSinhaBJP</td>\n",
       "      <td>Chowkidar Rahul Sinha</td>\n",
       "      <td>1.120040e+18</td>\n",
       "      <td>4/21/2019 19:08</td>\n",
       "      <td>/RahulSinhaBJP/status/1120041716315115520</td>\n",
       "      <td>370.0</td>\n",
       "      <td>13.0</td>\n",
       "      <td>101.0</td>\n",
       "      <td>bjp nation presid shri ji kolkata today addres...</td>\n",
       "      <td>BJP</td>\n",
       "      <td>False</td>\n",
       "      <td>neutral</td>\n",
       "      <td>0.000000</td>\n",
       "      <td>0.2960</td>\n",
       "    </tr>\n",
       "    <tr>\n",
       "      <th>9</th>\n",
       "      <td>NamoSantosh123</td>\n",
       "      <td>Chowkidar NaMo Santosh  🇮🇳</td>\n",
       "      <td>1.120040e+18</td>\n",
       "      <td>4/21/2019 18:45</td>\n",
       "      <td>/NamoSantosh123/status/1120035782390161408</td>\n",
       "      <td>3.0</td>\n",
       "      <td>0.0</td>\n",
       "      <td>2.0</td>\n",
       "      <td>todaysnamo campaign sanghvi area mavalpun grea...</td>\n",
       "      <td>BJP</td>\n",
       "      <td>False</td>\n",
       "      <td>neutral</td>\n",
       "      <td>0.800000</td>\n",
       "      <td>0.6249</td>\n",
       "    </tr>\n",
       "  </tbody>\n",
       "</table>\n",
       "</div>"
      ],
      "text/plain": [
       "              user                                    fullname      tweet-id  \\\n",
       "0       PNJoshiACM        #Chowkidar PiyushJoshi 🇮🇳Unity विकास  1.117050e+18   \n",
       "1  Pradeep20221694                              Pradeep Gautam  1.116020e+18   \n",
       "2  AdityaMudigond_  Chowkidar Aditya Mudigonda ఆదిత్య ముదిగొండ  1.116000e+18   \n",
       "3  chowkidar_bhakt                           चौकीदार लाल टमाटर  1.115930e+18   \n",
       "4      aloktaparia                      Chowkidar Alok Taparia  1.120100e+18   \n",
       "5      devendar_ch                          Devendar choudhary  1.120090e+18   \n",
       "6  NikhilChelsea12                            Chowkidar Nikhil  1.120070e+18   \n",
       "7     langer_abbie                    Chowkidar Abhi Langer 🇮🇳  1.120060e+18   \n",
       "8    RahulSinhaBJP                       Chowkidar Rahul Sinha  1.120040e+18   \n",
       "9   NamoSantosh123                  Chowkidar NaMo Santosh  🇮🇳  1.120040e+18   \n",
       "\n",
       "         timestamp                                          url  likes  \\\n",
       "0  4/13/2019 13:11       /PNJoshiACM/status/1117052634119143431    1.0   \n",
       "1  4/10/2019 16:42  /Pradeep20221694/status/1116018656935280640    0.0   \n",
       "2  4/10/2019 15:21  /AdityaMudigond_/status/1115998274278658048    0.0   \n",
       "3  4/10/2019 10:49  /chowkidar_bhakt/status/1115929827708624898    1.0   \n",
       "4  4/21/2019 23:16      /aloktaparia/status/1120103978287550465    1.0   \n",
       "5  4/21/2019 22:26      /devendar_ch/status/1120091537948282880    1.0   \n",
       "6  4/21/2019 21:12  /NikhilChelsea12/status/1120072720111112193    1.0   \n",
       "7  4/21/2019 20:03     /langer_abbie/status/1120055366039904256    0.0   \n",
       "8  4/21/2019 19:08    /RahulSinhaBJP/status/1120041716315115520  370.0   \n",
       "9  4/21/2019 18:45   /NamoSantosh123/status/1120035782390161408    3.0   \n",
       "\n",
       "   replies  retweets                                         tweet_text party  \\\n",
       "0      0.0       1.0  great rememb everyvotecount narishakti prove m...   BJP   \n",
       "1      0.0       0.0  select right govt india plea vote vote stop wa...   BJP   \n",
       "2      0.0       0.0  kudo artist via wa bharatmangemodidobara phire...   BJP   \n",
       "3      0.0       0.0  also need confid level like narendra modi sure...   BJP   \n",
       "4      0.0       0.0  reduc standard fake news peddler master apolog...   BJP   \n",
       "5      0.0       0.0  ask proof strike small matter simpli ask proof...   BJP   \n",
       "6      0.0       0.0  put decemb video dalal show frustrat bharatman...   BJP   \n",
       "7      0.0       0.0  luvli aroma modiagain modiwaapisayega ekbaarph...   BJP   \n",
       "8     13.0     101.0  bjp nation presid shri ji kolkata today addres...   BJP   \n",
       "9      0.0       2.0  todaysnamo campaign sanghvi area mavalpun grea...   BJP   \n",
       "\n",
       "   is_duplicate       mood  polarity  compound_score  \n",
       "0         False    neutral  0.900000          0.9022  \n",
       "1         False  happiness  0.142857         -0.2960  \n",
       "2         False      faith  0.000000          0.0000  \n",
       "3         False    support  0.500000          0.5859  \n",
       "4         False    support -0.100000         -0.4767  \n",
       "5         False    neutral -0.250000         -0.1027  \n",
       "6         False    neutral  0.000000          0.0000  \n",
       "7         False    neutral  0.000000          0.0000  \n",
       "8         False    neutral  0.000000          0.2960  \n",
       "9         False    neutral  0.800000          0.6249  "
      ]
     },
     "execution_count": 1,
     "metadata": {},
     "output_type": "execute_result"
    }
   ],
   "source": [
    "#import logging\n",
    "import pandas as pd\n",
    "import numpy as np\n",
    "#from numpy import random\n",
    "#import gensim\n",
    "#import nltk\n",
    "from sklearn.model_selection import train_test_split\n",
    "from sklearn.feature_extraction.text import CountVectorizer, TfidfVectorizer\n",
    "from sklearn.linear_model import LogisticRegression\n",
    "from sklearn.feature_extraction.text import TfidfVectorizer\n",
    "from sklearn.metrics import accuracy_score, confusion_matrix\n",
    "from sklearn.pipeline import Pipeline\n",
    "from imblearn.pipeline import make_pipeline\n",
    "from imblearn.over_sampling import ADASYN, SMOTE\n",
    "import matplotlib.pyplot as plt\n",
    "#from nltk.corpus import stopwords\n",
    "#import re\n",
    "from sklearn.metrics import classification_report\n",
    "%matplotlib inline\n",
    "\n",
    "df = pd.read_csv('new-training-dataset.csv')\n",
    "df = df[pd.notnull(df['mood'])]\n",
    "df.head(10)"
   ]
  },
  {
   "cell_type": "code",
   "execution_count": 2,
   "metadata": {},
   "outputs": [
    {
     "name": "stdout",
     "output_type": "stream",
     "text": [
      "neutral      34852\n",
      "faith        10490\n",
      "support       8584\n",
      "happiness     8334\n",
      "sadness       5988\n",
      "dislike       1446\n",
      "anger           66\n",
      "Name: mood, dtype: int64\n"
     ]
    }
   ],
   "source": [
    "X=df['tweet_text'].fillna(' ')\n",
    "y=df['mood']\n",
    "\n",
    "counts=y.value_counts()\n",
    "print(counts)"
   ]
  },
  {
   "cell_type": "code",
   "execution_count": 3,
   "metadata": {},
   "outputs": [],
   "source": [
    "lr = LogisticRegression()"
   ]
  },
  {
   "cell_type": "code",
   "execution_count": 4,
   "metadata": {},
   "outputs": [],
   "source": [
    "tv = TfidfVectorizer(stop_words=None, max_features=10000)\n",
    "testing_tfidf = tv.fit_transform(X)"
   ]
  },
  {
   "cell_type": "code",
   "execution_count": 5,
   "metadata": {},
   "outputs": [],
   "source": [
    "smt = SMOTE(random_state=777, k_neighbors=1)\n",
    "X_SMOTE, y_SMOTE = smt.fit_sample(testing_tfidf, y)"
   ]
  },
  {
   "cell_type": "code",
   "execution_count": 6,
   "metadata": {},
   "outputs": [
    {
     "data": {
      "text/plain": [
       "array(['neutral', 'happiness', 'faith', ..., 'support', 'support',\n",
       "       'support'], dtype=object)"
      ]
     },
     "execution_count": 6,
     "metadata": {},
     "output_type": "execute_result"
    }
   ],
   "source": [
    "y_SMOTE"
   ]
  },
  {
   "cell_type": "code",
   "execution_count": 7,
   "metadata": {},
   "outputs": [
    {
     "name": "stdout",
     "output_type": "stream",
     "text": [
      "[('anger', 34852), ('dislike', 34852), ('faith', 34852), ('happiness', 34852), ('neutral', 34852), ('sadness', 34852), ('support', 34852)]\n"
     ]
    }
   ],
   "source": [
    "unique, counts = np.unique(y_SMOTE, return_counts=True)\n",
    "print(list(zip(unique, counts)))"
   ]
  },
  {
   "cell_type": "code",
   "execution_count": 8,
   "metadata": {},
   "outputs": [],
   "source": [
    "my_mood = ['neutral','happiness','sadness','support','faith','dislike','anger']"
   ]
  },
  {
   "cell_type": "markdown",
   "metadata": {},
   "source": [
    "# K-fold and Evaluation metric"
   ]
  },
  {
   "cell_type": "code",
   "execution_count": 10,
   "metadata": {},
   "outputs": [
    {
     "name": "stderr",
     "output_type": "stream",
     "text": [
      "C:\\ProgramData\\Anaconda3\\lib\\site-packages\\sklearn\\linear_model\\logistic.py:433: FutureWarning: Default solver will be changed to 'lbfgs' in 0.22. Specify a solver to silence this warning.\n",
      "  FutureWarning)\n",
      "C:\\ProgramData\\Anaconda3\\lib\\site-packages\\sklearn\\linear_model\\logistic.py:460: FutureWarning: Default multi_class will be changed to 'auto' in 0.22. Specify the multi_class option to silence this warning.\n",
      "  \"this warning.\", FutureWarning)\n"
     ]
    },
    {
     "name": "stdout",
     "output_type": "stream",
     "text": [
      "              precision    recall  f1-score   support\n",
      "\n",
      "     neutral       1.00      1.00      1.00      6971\n",
      "   happiness       1.00      1.00      1.00      6971\n",
      "     sadness       1.00      0.97      0.98      6971\n",
      "     support       1.00      0.99      0.99      6971\n",
      "       faith       0.94      1.00      0.97      6971\n",
      "     dislike       0.98      0.95      0.97      6971\n",
      "       anger       0.98      0.99      0.99      6971\n",
      "\n",
      "   micro avg       0.98      0.98      0.98     48797\n",
      "   macro avg       0.99      0.98      0.98     48797\n",
      "weighted avg       0.99      0.98      0.98     48797\n",
      "\n",
      "              precision    recall  f1-score   support\n",
      "\n",
      "     neutral       1.00      1.00      1.00      6971\n",
      "   happiness       1.00      1.00      1.00      6971\n",
      "     sadness       1.00      0.98      0.99      6971\n",
      "     support       1.00      0.99      0.99      6971\n",
      "       faith       0.95      0.99      0.97      6971\n",
      "     dislike       0.99      0.96      0.97      6971\n",
      "       anger       0.99      0.99      0.99      6971\n",
      "\n",
      "   micro avg       0.99      0.99      0.99     48797\n",
      "   macro avg       0.99      0.99      0.99     48797\n",
      "weighted avg       0.99      0.99      0.99     48797\n",
      "\n",
      "              precision    recall  f1-score   support\n",
      "\n",
      "     neutral       1.00      1.00      1.00      6970\n",
      "   happiness       1.00      1.00      1.00      6970\n",
      "     sadness       1.00      0.98      0.99      6970\n",
      "     support       1.00      0.99      0.99      6970\n",
      "       faith       0.95      0.99      0.97      6970\n",
      "     dislike       0.99      0.95      0.97      6970\n",
      "       anger       0.99      0.99      0.99      6970\n",
      "\n",
      "   micro avg       0.99      0.99      0.99     48790\n",
      "   macro avg       0.99      0.99      0.99     48790\n",
      "weighted avg       0.99      0.99      0.99     48790\n",
      "\n",
      "              precision    recall  f1-score   support\n",
      "\n",
      "     neutral       1.00      1.00      1.00      6970\n",
      "   happiness       1.00      1.00      1.00      6970\n",
      "     sadness       0.99      0.98      0.99      6970\n",
      "     support       1.00      0.99      0.99      6970\n",
      "       faith       0.94      1.00      0.97      6970\n",
      "     dislike       0.99      0.95      0.97      6970\n",
      "       anger       0.99      0.99      0.99      6970\n",
      "\n",
      "   micro avg       0.99      0.99      0.99     48790\n",
      "   macro avg       0.99      0.99      0.99     48790\n",
      "weighted avg       0.99      0.99      0.99     48790\n",
      "\n",
      "              precision    recall  f1-score   support\n",
      "\n",
      "     neutral       1.00      1.00      1.00      6970\n",
      "   happiness       1.00      1.00      1.00      6970\n",
      "     sadness       0.99      0.98      0.99      6970\n",
      "     support       1.00      0.99      0.99      6970\n",
      "       faith       0.95      0.99      0.97      6970\n",
      "     dislike       0.99      0.96      0.97      6970\n",
      "       anger       0.99      0.99      0.99      6970\n",
      "\n",
      "   micro avg       0.99      0.99      0.99     48790\n",
      "   macro avg       0.99      0.99      0.99     48790\n",
      "weighted avg       0.99      0.99      0.99     48790\n",
      "\n",
      "accuracy: 98.62% (+/- 0.08%)\n"
     ]
    }
   ],
   "source": [
    "from sklearn.model_selection import StratifiedKFold\n",
    "from sklearn.metrics import precision_score, recall_score, f1_score\n",
    "from sklearn.feature_extraction.text import TfidfTransformer\n",
    "\n",
    "kfold = StratifiedKFold(n_splits=5, shuffle=True, random_state=777)\n",
    "accuracy = []\n",
    "precision = []\n",
    "recall = []\n",
    "f1 = []\n",
    "confusionMatrices=[]\n",
    "\n",
    "lr = Pipeline([('tfidf', TfidfTransformer()),\n",
    "               ('lr', LogisticRegression()),\n",
    "              ])\n",
    "\n",
    "for train, test in kfold.split(X_SMOTE, y_SMOTE):\n",
    "    lr_fit = lr.fit(X_SMOTE[train], y_SMOTE[train])\n",
    "    prediction = lr_fit.predict(X_SMOTE[test])\n",
    "    #print(prediction)\n",
    "    scores = lr_fit.score(X_SMOTE[test],y_SMOTE[test])\n",
    "    accuracy.append(scores * 100)\n",
    "    print(classification_report(y_SMOTE[test],prediction,target_names=my_mood))\n",
    "    labels=my_mood\n",
    "    for i in range(10):\n",
    "        cm=confusion_matrix(y_SMOTE[test],prediction)\n",
    "        confusionMatrices.append(cm)\n",
    "\n",
    "print(\"accuracy: %.2f%% (+/- %.2f%%)\" % (np.mean(accuracy), np.std(accuracy)))"
   ]
  },
  {
   "cell_type": "markdown",
   "metadata": {},
   "source": [
    "# Confusion Matrix"
   ]
  },
  {
   "cell_type": "code",
   "execution_count": 20,
   "metadata": {
    "scrolled": false
   },
   "outputs": [
    {
     "data": {
      "image/png": "[encoded data removed]",
      "text/plain": [
       "<Figure size 432x288 with 2 Axes>"
      ]
     },
     "metadata": {},
     "output_type": "display_data"
    }
   ],
   "source": [
    "import seaborn as sn\n",
    "labels=my_mood\n",
    "matrix=confusionMatrices[0]\n",
    "ax=plt.axes()\n",
    "df_cm=pd.DataFrame(matrix,range(7),range(7))\n",
    "sn.set(font_scale=1.2)#for Label size\n",
    "sn.heatmap(df_cm,annot=True,annot_kws={\"size\":10})\n",
    "ax.set_title('Confusion Matrix')\n",
    "plt.show()"
   ]
  },
  {
   "cell_type": "code",
   "execution_count": 26,
   "metadata": {},
   "outputs": [],
   "source": [
    "import pickle\n",
    "pickle_out = open('./lr_fit.pkl', 'wb')\n",
    "pickle.dump(lr_fit, pickle_out)\n",
    "pickle_out.close()"
   ]
  },
  {
   "cell_type": "code",
   "execution_count": 24,
   "metadata": {
    "scrolled": false
   },
   "outputs": [],
   "source": [
    "testingdata=tv.transform([\"clean\"])\n",
    "pred2 = lr_fit.predict(testingdata)"
   ]
  },
  {
   "cell_type": "code",
   "execution_count": 25,
   "metadata": {},
   "outputs": [
    {
     "data": {
      "text/plain": [
       "array(['neutral'], dtype=object)"
      ]
     },
     "execution_count": 25,
     "metadata": {},
     "output_type": "execute_result"
    }
   ],
   "source": [
    "pred2"
   ]
  }
 ],
 "metadata": {
  "kernelspec": {
   "display_name": "Python 3",
   "language": "python",
   "name": "python3"
  },
  "language_info": {
   "codemirror_mode": {
    "name": "ipython",
    "version": 3
   },
   "file_extension": ".py",
   "mimetype": "text/x-python",
   "name": "python",
   "nbconvert_exporter": "python",
   "pygments_lexer": "ipython3",
   "version": "3.7.1"
  }
 },
 "nbformat": 4,
 "nbformat_minor": 2
}
