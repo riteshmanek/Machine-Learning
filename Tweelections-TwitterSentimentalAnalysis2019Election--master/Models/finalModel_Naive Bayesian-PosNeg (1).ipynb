{
 "cells": [
  {
   "cell_type": "markdown",
   "metadata": {},
   "source": [
    "# Naive Bayesian"
   ]
  },
  {
   "cell_type": "code",
   "execution_count": 1,
   "metadata": {
    "scrolled": true
   },
   "outputs": [
    {
     "data": {
      "text/html": [
       "<div>\n",
       "<style scoped>\n",
       "    .dataframe tbody tr th:only-of-type {\n",
       "        vertical-align: middle;\n",
       "    }\n",
       "\n",
       "    .dataframe tbody tr th {\n",
       "        vertical-align: top;\n",
       "    }\n",
       "\n",
       "    .dataframe thead th {\n",
       "        text-align: right;\n",
       "    }\n",
       "</style>\n",
       "<table border=\"1\" class=\"dataframe\">\n",
       "  <thead>\n",
       "    <tr style=\"text-align: right;\">\n",
       "      <th></th>\n",
       "      <th>mood</th>\n",
       "      <th>id</th>\n",
       "      <th>timestamp</th>\n",
       "      <th>no_query</th>\n",
       "      <th>username</th>\n",
       "      <th>tweet_text</th>\n",
       "      <th>is_duplicate</th>\n",
       "    </tr>\n",
       "  </thead>\n",
       "  <tbody>\n",
       "    <tr>\n",
       "      <th>0</th>\n",
       "      <td>0</td>\n",
       "      <td>1467810672</td>\n",
       "      <td>Mon Apr 06 22:19:49 PDT 2009</td>\n",
       "      <td>NO_QUERY</td>\n",
       "      <td>scotthamilton</td>\n",
       "      <td>upset cant update facebook texting might cry r...</td>\n",
       "      <td>False</td>\n",
       "    </tr>\n",
       "    <tr>\n",
       "      <th>1</th>\n",
       "      <td>0</td>\n",
       "      <td>1467810917</td>\n",
       "      <td>Mon Apr 06 22:19:53 PDT 2009</td>\n",
       "      <td>NO_QUERY</td>\n",
       "      <td>mattycus</td>\n",
       "      <td>dived many time ball managed save rest go bound</td>\n",
       "      <td>False</td>\n",
       "    </tr>\n",
       "    <tr>\n",
       "      <th>2</th>\n",
       "      <td>0</td>\n",
       "      <td>1467811184</td>\n",
       "      <td>Mon Apr 06 22:19:57 PDT 2009</td>\n",
       "      <td>NO_QUERY</td>\n",
       "      <td>ElleCTF</td>\n",
       "      <td>whole body feel itchy like fire</td>\n",
       "      <td>False</td>\n",
       "    </tr>\n",
       "    <tr>\n",
       "      <th>3</th>\n",
       "      <td>0</td>\n",
       "      <td>1467811193</td>\n",
       "      <td>Mon Apr 06 22:19:57 PDT 2009</td>\n",
       "      <td>NO_QUERY</td>\n",
       "      <td>Karoli</td>\n",
       "      <td>behaving im mad cant see</td>\n",
       "      <td>False</td>\n",
       "    </tr>\n",
       "    <tr>\n",
       "      <th>4</th>\n",
       "      <td>0</td>\n",
       "      <td>1467811372</td>\n",
       "      <td>Mon Apr 06 22:20:00 PDT 2009</td>\n",
       "      <td>NO_QUERY</td>\n",
       "      <td>joy_wolf</td>\n",
       "      <td>whole crew</td>\n",
       "      <td>False</td>\n",
       "    </tr>\n",
       "    <tr>\n",
       "      <th>5</th>\n",
       "      <td>0</td>\n",
       "      <td>1467811592</td>\n",
       "      <td>Mon Apr 06 22:20:03 PDT 2009</td>\n",
       "      <td>NO_QUERY</td>\n",
       "      <td>mybirch</td>\n",
       "      <td>need hug</td>\n",
       "      <td>False</td>\n",
       "    </tr>\n",
       "    <tr>\n",
       "      <th>6</th>\n",
       "      <td>0</td>\n",
       "      <td>1467811594</td>\n",
       "      <td>Mon Apr 06 22:20:03 PDT 2009</td>\n",
       "      <td>NO_QUERY</td>\n",
       "      <td>coZZ</td>\n",
       "      <td>hey long time see yes rain bit bit lol im fine...</td>\n",
       "      <td>False</td>\n",
       "    </tr>\n",
       "    <tr>\n",
       "      <th>7</th>\n",
       "      <td>0</td>\n",
       "      <td>1467811795</td>\n",
       "      <td>Mon Apr 06 22:20:05 PDT 2009</td>\n",
       "      <td>NO_QUERY</td>\n",
       "      <td>2Hood4Hollywood</td>\n",
       "      <td>nope didnt</td>\n",
       "      <td>False</td>\n",
       "    </tr>\n",
       "    <tr>\n",
       "      <th>8</th>\n",
       "      <td>0</td>\n",
       "      <td>1467812025</td>\n",
       "      <td>Mon Apr 06 22:20:09 PDT 2009</td>\n",
       "      <td>NO_QUERY</td>\n",
       "      <td>mimismo</td>\n",
       "      <td>que muera</td>\n",
       "      <td>False</td>\n",
       "    </tr>\n",
       "    <tr>\n",
       "      <th>9</th>\n",
       "      <td>0</td>\n",
       "      <td>1467812416</td>\n",
       "      <td>Mon Apr 06 22:20:16 PDT 2009</td>\n",
       "      <td>NO_QUERY</td>\n",
       "      <td>erinx3leannexo</td>\n",
       "      <td>spring break plain city snowing</td>\n",
       "      <td>False</td>\n",
       "    </tr>\n",
       "  </tbody>\n",
       "</table>\n",
       "</div>"
      ],
      "text/plain": [
       "   mood          id                     timestamp  no_query         username  \\\n",
       "0     0  1467810672  Mon Apr 06 22:19:49 PDT 2009  NO_QUERY    scotthamilton   \n",
       "1     0  1467810917  Mon Apr 06 22:19:53 PDT 2009  NO_QUERY         mattycus   \n",
       "2     0  1467811184  Mon Apr 06 22:19:57 PDT 2009  NO_QUERY          ElleCTF   \n",
       "3     0  1467811193  Mon Apr 06 22:19:57 PDT 2009  NO_QUERY           Karoli   \n",
       "4     0  1467811372  Mon Apr 06 22:20:00 PDT 2009  NO_QUERY         joy_wolf   \n",
       "5     0  1467811592  Mon Apr 06 22:20:03 PDT 2009  NO_QUERY          mybirch   \n",
       "6     0  1467811594  Mon Apr 06 22:20:03 PDT 2009  NO_QUERY             coZZ   \n",
       "7     0  1467811795  Mon Apr 06 22:20:05 PDT 2009  NO_QUERY  2Hood4Hollywood   \n",
       "8     0  1467812025  Mon Apr 06 22:20:09 PDT 2009  NO_QUERY          mimismo   \n",
       "9     0  1467812416  Mon Apr 06 22:20:16 PDT 2009  NO_QUERY   erinx3leannexo   \n",
       "\n",
       "                                          tweet_text  is_duplicate  \n",
       "0  upset cant update facebook texting might cry r...         False  \n",
       "1    dived many time ball managed save rest go bound         False  \n",
       "2                    whole body feel itchy like fire         False  \n",
       "3                           behaving im mad cant see         False  \n",
       "4                                         whole crew         False  \n",
       "5                                           need hug         False  \n",
       "6  hey long time see yes rain bit bit lol im fine...         False  \n",
       "7                                         nope didnt         False  \n",
       "8                                         que muera          False  \n",
       "9                    spring break plain city snowing         False  "
      ]
     },
     "execution_count": 1,
     "metadata": {},
     "output_type": "execute_result"
    }
   ],
   "source": [
    "#import logging\n",
    "import pandas as pd\n",
    "import numpy as np\n",
    "#from numpy import random\n",
    "#import gensim\n",
    "#import nltk\n",
    "from sklearn.model_selection import train_test_split\n",
    "from sklearn.feature_extraction.text import CountVectorizer, TfidfVectorizer\n",
    "from sklearn.metrics import accuracy_score, confusion_matrix\n",
    "import matplotlib.pyplot as plt\n",
    "#from nltk.corpus import stopwords\n",
    "#import re\n",
    "from sklearn.naive_bayes import MultinomialNB\n",
    "from sklearn.metrics import classification_report\n",
    "from sklearn.metrics import confusion_matrix\n",
    "from sklearn.linear_model import SGDClassifier\n",
    "from sklearn.pipeline import Pipeline\n",
    "from imblearn.pipeline import make_pipeline\n",
    "from imblearn.over_sampling import ADASYN, SMOTE\n",
    "from sklearn.feature_extraction.text import TfidfTransformer\n",
    "%matplotlib inline\n",
    "\n",
    "df = pd.read_csv('cleaned-dataset.csv')\n",
    "df = df[pd.notnull(df['mood'])]\n",
    "df.head(10)\n"
   ]
  },
  {
   "cell_type": "code",
   "execution_count": 2,
   "metadata": {},
   "outputs": [
    {
     "name": "stdout",
     "output_type": "stream",
     "text": [
      "7546291\n"
     ]
    }
   ],
   "source": [
    "print(df['tweet_text'].apply(lambda x: len(str(x).split(' '))).sum())"
   ]
  },
  {
   "cell_type": "code",
   "execution_count": 3,
   "metadata": {},
   "outputs": [
    {
     "data": {
      "image/png": "[encoded data removed]",
      "text/plain": [
       "<Figure size 720x288 with 1 Axes>"
      ]
     },
     "metadata": {
      "needs_background": "light"
     },
     "output_type": "display_data"
    }
   ],
   "source": [
    "my_mood = ['positive','negative']\n",
    "plt.figure(figsize=(10,4))\n",
    "df.mood.value_counts().plot(kind='bar');"
   ]
  },
  {
   "cell_type": "code",
   "execution_count": 4,
   "metadata": {},
   "outputs": [
    {
     "name": "stdout",
     "output_type": "stream",
     "text": [
      "0    749007\n",
      "4    229997\n",
      "Name: mood, dtype: int64\n"
     ]
    }
   ],
   "source": [
    "X=df['tweet_text'].fillna(' ')\n",
    "y=df['mood']\n",
    "\n",
    "counts=y.value_counts()\n",
    "print(counts)"
   ]
  },
  {
   "cell_type": "markdown",
   "metadata": {},
   "source": [
    "# Multinomial Naive Bayesian Model"
   ]
  },
  {
   "cell_type": "code",
   "execution_count": 8,
   "metadata": {},
   "outputs": [],
   "source": [
    "# As Multinomial Naive Bayes model works best with text classification compared to other Naive Bayes models\n",
    "clf = MultinomialNB()"
   ]
  },
  {
   "cell_type": "code",
   "execution_count": 9,
   "metadata": {},
   "outputs": [
    {
     "name": "stdout",
     "output_type": "stream",
     "text": [
      "  (0, 89390)\t0.3108630669905045\n",
      "  (0, 14283)\t0.17991637962386386\n",
      "  (0, 89304)\t0.2846446801986794\n",
      "  (0, 26371)\t0.30924549911755983\n",
      "  (0, 84422)\t0.386150264708576\n",
      "  (0, 47266)\t0.2716859656101116\n",
      "  (0, 19146)\t0.263345253030961\n",
      "  (0, 68622)\t0.3495491110772429\n",
      "  (0, 75517)\t0.23268286923858367\n",
      "  (0, 85852)\t0.18161513838619264\n",
      "  (0, 2988)\t0.26931208399529316\n",
      "  (0, 11020)\t0.34673319472984476\n",
      "  (1, 22144)\t0.564314658102829\n",
      "  (1, 45604)\t0.25829307314625555\n",
      "  (1, 85420)\t0.17729178999192874\n",
      "  (1, 8329)\t0.3216697884725614\n",
      "  (1, 45424)\t0.34897202569617874\n",
      "  (1, 74657)\t0.31162357315870454\n",
      "  (1, 68490)\t0.28095741094343657\n",
      "  (1, 31134)\t0.16486471206142803\n",
      "  (1, 12169)\t0.3936008857797402\n",
      "  (2, 93876)\t0.3922205069335124\n",
      "  (2, 11586)\t0.43705831450036536\n",
      "  (2, 27096)\t0.2798678632831344\n",
      "  (2, 38351)\t0.5369644019495555\n",
      "  :\t:\n",
      "  (978998, 4621)\t0.4388129805439996\n",
      "  (978999, 45263)\t0.5023462391511391\n",
      "  (978999, 31820)\t0.6498102629569329\n",
      "  (978999, 49245)\t0.5704339384771461\n",
      "  (979000, 85420)\t0.18182301573624488\n",
      "  (979000, 79192)\t0.38723126014947873\n",
      "  (979000, 15503)\t0.3407579979842434\n",
      "  (979000, 99567)\t0.35731253400931373\n",
      "  (979000, 12212)\t0.3778557461789361\n",
      "  (979000, 47225)\t0.5350730841415121\n",
      "  (979000, 51354)\t0.3796391861598157\n",
      "  (979001, 43037)\t0.5672888867510717\n",
      "  (979001, 74806)\t0.3790810096728344\n",
      "  (979001, 17182)\t0.35767018500480663\n",
      "  (979001, 48847)\t0.4140053758644414\n",
      "  (979001, 96655)\t0.4849252463917755\n",
      "  (979002, 36852)\t0.16139366756811863\n",
      "  (979002, 31942)\t0.2645196801400742\n",
      "  (979002, 84498)\t0.6542333087375665\n",
      "  (979002, 91575)\t0.6898986886679815\n",
      "  (979003, 14283)\t0.30752156779122547\n",
      "  (979003, 91028)\t0.4130923194332978\n",
      "  (979003, 91812)\t0.4083497034518161\n",
      "  (979003, 20055)\t0.5498937044144898\n",
      "  (979003, 85388)\t0.5154150313141522\n"
     ]
    }
   ],
   "source": [
    "tv = TfidfVectorizer(stop_words=None, max_features=100000)\n",
    "testing_tfidf = tv.fit_transform(X)\n",
    "print(testing_tfidf)"
   ]
  },
  {
   "cell_type": "code",
   "execution_count": 10,
   "metadata": {},
   "outputs": [],
   "source": [
    "smt = SMOTE(random_state=777, k_neighbors=1)\n",
    "X_SMOTE, y_SMOTE = smt.fit_sample(testing_tfidf, y)"
   ]
  },
  {
   "cell_type": "code",
   "execution_count": 11,
   "metadata": {},
   "outputs": [],
   "source": [
    "df = pd.DataFrame(y_SMOTE)"
   ]
  },
  {
   "cell_type": "markdown",
   "metadata": {},
   "source": [
    "# After Synthetic Minority Oversampling Technique"
   ]
  },
  {
   "cell_type": "markdown",
   "metadata": {},
   "source": [
    "Synthetic data generated to handle imbalance "
   ]
  },
  {
   "cell_type": "code",
   "execution_count": 13,
   "metadata": {},
   "outputs": [
    {
     "data": {
      "image/png": "[encoded data removed]",
      "text/plain": [
       "<Figure size 720x288 with 1 Axes>"
      ]
     },
     "metadata": {
      "needs_background": "light"
     },
     "output_type": "display_data"
    }
   ],
   "source": [
    "my_mood = ['positive','negative']\n",
    "plt.figure(figsize=(10,4))\n",
    "df[0].value_counts().plot(kind='bar');"
   ]
  },
  {
   "cell_type": "code",
   "execution_count": 14,
   "metadata": {
    "scrolled": false
   },
   "outputs": [],
   "source": [
    "my_mood = ['positive','negative']\n"
   ]
  },
  {
   "cell_type": "markdown",
   "metadata": {},
   "source": [
    "# K-fold and Evaluation metric"
   ]
  },
  {
   "cell_type": "code",
   "execution_count": 15,
   "metadata": {
    "scrolled": false
   },
   "outputs": [
    {
     "name": "stdout",
     "output_type": "stream",
     "text": [
      "              precision    recall  f1-score   support\n",
      "\n",
      "    positive       0.78      0.77      0.77    149802\n",
      "    negative       0.77      0.78      0.77    149802\n",
      "\n",
      "   micro avg       0.77      0.77      0.77    299604\n",
      "   macro avg       0.77      0.77      0.77    299604\n",
      "weighted avg       0.77      0.77      0.77    299604\n",
      "\n",
      "              precision    recall  f1-score   support\n",
      "\n",
      "    positive       0.77      0.77      0.77    149802\n",
      "    negative       0.77      0.78      0.77    149802\n",
      "\n",
      "   micro avg       0.77      0.77      0.77    299604\n",
      "   macro avg       0.77      0.77      0.77    299604\n",
      "weighted avg       0.77      0.77      0.77    299604\n",
      "\n",
      "              precision    recall  f1-score   support\n",
      "\n",
      "    positive       0.78      0.77      0.77    149801\n",
      "    negative       0.77      0.78      0.78    149801\n",
      "\n",
      "   micro avg       0.78      0.78      0.78    299602\n",
      "   macro avg       0.78      0.78      0.78    299602\n",
      "weighted avg       0.78      0.78      0.78    299602\n",
      "\n",
      "              precision    recall  f1-score   support\n",
      "\n",
      "    positive       0.78      0.77      0.77    149801\n",
      "    negative       0.77      0.78      0.78    149801\n",
      "\n",
      "   micro avg       0.78      0.78      0.78    299602\n",
      "   macro avg       0.78      0.78      0.78    299602\n",
      "weighted avg       0.78      0.78      0.78    299602\n",
      "\n",
      "              precision    recall  f1-score   support\n",
      "\n",
      "    positive       0.78      0.77      0.77    149801\n",
      "    negative       0.77      0.79      0.78    149801\n",
      "\n",
      "   micro avg       0.78      0.78      0.78    299602\n",
      "   macro avg       0.78      0.78      0.78    299602\n",
      "weighted avg       0.78      0.78      0.78    299602\n",
      "\n",
      "accuracy: 77.41% (+/- 0.16%)\n"
     ]
    }
   ],
   "source": [
    "from sklearn.model_selection import StratifiedKFold\n",
    "from sklearn.metrics import precision_score, recall_score, f1_score\n",
    "\n",
    "kfold = StratifiedKFold(n_splits=5, shuffle=True, random_state=777)\n",
    "accuracy = []\n",
    "precision = []\n",
    "recall = []\n",
    "f1 = []\n",
    "confusionMatrices=[]\n",
    "\n",
    "nb = Pipeline([('tfidf', TfidfTransformer()),\n",
    "               ('clf', MultinomialNB()),\n",
    "               ])\n",
    "\n",
    "for train, test in kfold.split(X_SMOTE, y_SMOTE):\n",
    "    nb_fit = nb.fit(X_SMOTE[train], y_SMOTE[train])\n",
    "    prediction = nb_fit.predict(X_SMOTE[test])\n",
    "    #print(prediction)\n",
    "    scores = nb_fit.score(X_SMOTE[test],y_SMOTE[test])\n",
    "    accuracy.append(scores * 100)\n",
    "    print(classification_report(y_SMOTE[test],prediction,target_names=my_mood))\n",
    "    labels=my_mood\n",
    "    for i in range(10):\n",
    "        cm=confusion_matrix(y_SMOTE[test],prediction)\n",
    "        confusionMatrices.append(cm)\n",
    "\n",
    "print(\"accuracy: %.2f%% (+/- %.2f%%)\" % (np.mean(accuracy), np.std(accuracy)))"
   ]
  },
  {
   "cell_type": "markdown",
   "metadata": {},
   "source": [
    "# Correlation Matrix"
   ]
  },
  {
   "cell_type": "code",
   "execution_count": 17,
   "metadata": {
    "scrolled": true
   },
   "outputs": [
    {
     "data": {
      "image/png": "[encoded data removed]",
      "text/plain": [
       "<Figure size 432x288 with 2 Axes>"
      ]
     },
     "metadata": {
      "needs_background": "light"
     },
     "output_type": "display_data"
    }
   ],
   "source": [
    "import seaborn as sn\n",
    "labels=my_mood\n",
    "matrix=confusionMatrices[0]\n",
    "ax=plt.axes()\n",
    "df_cm=pd.DataFrame(matrix,range(2),range(2))\n",
    "sn.set(font_scale=1.2)#for Label size\n",
    "sn.heatmap(df_cm,annot=True,annot_kws={\"size\":10})\n",
    "ax.set_title('Confusion Matrix')\n",
    "plt.show()"
   ]
  },
  {
   "cell_type": "code",
   "execution_count": 18,
   "metadata": {},
   "outputs": [],
   "source": [
    "import pickle\n",
    "pickle_out = open('./naive_bayes_posneg.pkl', 'wb')\n",
    "pickle.dump(nb, pickle_out)\n",
    "pickle_out.close()"
   ]
  },
  {
   "cell_type": "code",
   "execution_count": null,
   "metadata": {},
   "outputs": [],
   "source": []
  }
 ],
 "metadata": {
  "kernelspec": {
   "display_name": "Python 3",
   "language": "python",
   "name": "python3"
  },
  "language_info": {
   "codemirror_mode": {
    "name": "ipython",
    "version": 3
   },
   "file_extension": ".py",
   "mimetype": "text/x-python",
   "name": "python",
   "nbconvert_exporter": "python",
   "pygments_lexer": "ipython3",
   "version": "3.7.1"
  }
 },
 "nbformat": 4,
 "nbformat_minor": 2
}
