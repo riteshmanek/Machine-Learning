{
 "cells": [
  {
   "cell_type": "code",
   "execution_count": 1,
   "metadata": {},
   "outputs": [],
   "source": [
    "import pandas as pd\n",
    "import numpy as np\n",
    "import matplotlib.pyplot as plt\n",
    "\n",
    "#import tensorflow as tf\n",
    "import pandas as pd\n",
    "#import seaborn as sns\n",
    "import numpy as np\n",
    "\n",
    "# Plotly visualizations\n",
    "from plotly import tools\n",
    "import plotly.plotly as py\n",
    "import plotly.figure_factory as ff\n",
    "import plotly.graph_objs as go\n",
    "from plotly.offline import download_plotlyjs, init_notebook_mode, plot, iplot"
   ]
  },
  {
   "cell_type": "code",
   "execution_count": 2,
   "metadata": {},
   "outputs": [],
   "source": [
    "# Read csv file into a pandas dataframe\n",
    "df = pd.read_csv(\"cleanedloans.csv\")"
   ]
  },
  {
   "cell_type": "code",
   "execution_count": null,
   "metadata": {},
   "outputs": [],
   "source": [
    "df.dtypes"
   ]
  },
  {
   "cell_type": "code",
   "execution_count": null,
   "metadata": {},
   "outputs": [],
   "source": [
    "#For better understanding uppercasing column name \n",
    "df.columns.str.upper()"
   ]
  },
  {
   "cell_type": "code",
   "execution_count": null,
   "metadata": {},
   "outputs": [],
   "source": [
    "#In order to invest in proper region investor should be aware of good loans and bad loans \n",
    "#This metric will give you update on how many bad loans we have\n",
    "#Average annual income is an important key metric for finding possible opportunities of investments in a specific region \n",
    "\n",
    "#First we need to check loan status\n",
    "df[\"loan_status\"].value_counts()"
   ]
  },
  {
   "cell_type": "code",
   "execution_count": null,
   "metadata": {},
   "outputs": [],
   "source": [
    " #Determining the loans that are bad from loan_status column\n",
    "    \n",
    "#declare bad loan\n",
    "bad_loan = [\"Charged Off\", \"Default\", \"Does not meet the credit policy. Status:Charged Off\", \"In Grace Period\", \n",
    "            \"Late (16-30 days)\", \"Late (31-120 days)\"]"
   ]
  },
  {
   "cell_type": "code",
   "execution_count": null,
   "metadata": {},
   "outputs": [],
   "source": [
    "#create new column and assign null value to it \n",
    "df['loan_condition'] = np.nan\n"
   ]
  },
  {
   "cell_type": "code",
   "execution_count": null,
   "metadata": {},
   "outputs": [],
   "source": [
    "#crete defination to add values as good loan and bad loan \n",
    "def loan_condition(status):\n",
    "    if status in bad_loan:\n",
    "        return 'Bad Loan'\n",
    "    else:\n",
    "        return 'Good Loan'"
   ]
  },
  {
   "cell_type": "code",
   "execution_count": null,
   "metadata": {},
   "outputs": [],
   "source": [
    "#add good loan bad loan condition in column \n",
    "df['loan_condition'] = df['loan_status'].apply(loan_condition)"
   ]
  },
  {
   "cell_type": "code",
   "execution_count": null,
   "metadata": {},
   "outputs": [],
   "source": [
    "df"
   ]
  },
  {
   "cell_type": "code",
   "execution_count": null,
   "metadata": {},
   "outputs": [],
   "source": [
    "f, ax = plt.subplots(1,2, figsize=(16,8))\n",
    "\n",
    "colors = ['lightcoral', 'lightskyblue']\n",
    "labels =\"Good Loans\", \"Bad Loans\"\n",
    "\n",
    "plt.suptitle('Information on Loan Conditions', fontsize=20)\n",
    "\n",
    "df[\"loan_condition\"].value_counts().plot.pie(explode=[0,0.25], autopct='%1.2f%%', ax=ax[0], shadow=True, colors=colors, \n",
    "                                             labels=labels, fontsize=12, startangle=70)\n",
    "\n",
    "\n",
    "# ax[0].set_title('State of Loan', fontsize=16)\n",
    "#ax[0].set_ylabel('% of Condition of Loans', fontsize=14)\n",
    "\n",
    "# sns.countplot('loan_condition', data=df, ax=ax[1], palette=colors)\n",
    "# ax[1].set_title('Condition of Loans', fontsize=20)\n",
    "# ax[1].set_xticklabels(['Good', 'Bad'], rotation='horizontal')\n",
    "#palette = [\"#3791D7\", \"#E01E1B\"]\n",
    "\n",
    "#sns.barplot(x=\"year\", y=\"loan_amount\", hue=\"loan_condition\", data=df, palette=palette, estimator=lambda x: len(x) / len(df) * 100)\n",
    "#ax[1].set(ylabel=\"(%)\")"
   ]
  },
  {
   "cell_type": "code",
   "execution_count": null,
   "metadata": {},
   "outputs": [],
   "source": [
    "#### Lets consider loans issued by region\n",
    "#South east, West and NorthEast regions had the highest amount lof loans issued.\n",
    "#West and SouthWest had a rapid increase in debt-to-income starting in 2012\n",
    "#West and SouthWest had a rapid decrease in interest rates (This might explain the increase in debt to income).\n",
    "\n",
    "df['addr_state'].unique()\n",
    "\n",
    "# Make a list with each of the regions by state.\n",
    "\n",
    "west = ['CA', 'OR', 'UT','WA', 'CO', 'NV', 'AK', 'MT', 'HI', 'WY', 'ID']\n",
    "south_west = ['AZ', 'TX', 'NM', 'OK']\n",
    "south_east = ['GA', 'NC', 'VA', 'FL', 'KY', 'SC', 'LA', 'AL', 'WV', 'DC', 'AR', 'DE', 'MS', 'TN' ]\n",
    "mid_west = ['IL', 'MO', 'MN', 'OH', 'WI', 'KS', 'MI', 'SD', 'IA', 'NE', 'IN', 'ND']\n",
    "north_east = ['CT', 'NY', 'PA', 'NJ', 'RI','MA', 'MD', 'VT', 'NH', 'ME']\n",
    "\n",
    "\n",
    "\n",
    "df['region'] = np.nan\n",
    "\n",
    "def finding_regions(state):\n",
    "    if state in west:\n",
    "        return 'West'\n",
    "    elif state in south_west:\n",
    "        return 'SouthWest'\n",
    "    elif state in south_east:\n",
    "        return 'SouthEast'\n",
    "    elif state in mid_west:\n",
    "        return 'MidWest'\n",
    "    elif state in north_east:\n",
    "        return 'NorthEast'\n",
    "    \n",
    "\n",
    "\n",
    "df['region'] = df['addr_state'].apply(finding_regions)\n"
   ]
  },
  {
   "cell_type": "code",
   "execution_count": null,
   "metadata": {},
   "outputs": [],
   "source": [
    "# This code will take the current date and transform it into a year-month format\n",
    "df['complete_date'] = pd.to_datetime(df['issue_d'])\n",
    "\n",
    "group_dates = df.groupby(['complete_date', 'region'], as_index=False).sum()\n",
    "\n",
    "group_dates['issue_d'] = [month.to_period('M') for \n",
    "                          month in group_dates['complete_date']]\n",
    "\n",
    "group_dates = group_dates.groupby(['issue_d', 'region'], as_index=False).sum()\n",
    "group_dates = group_dates.groupby(['issue_d', 'region'], as_index=False).sum()\n",
    "group_dates['loan_amnt'] = group_dates['loan_amnt']/1000\n",
    "\n",
    "\n",
    "df_dates = pd.DataFrame(data=group_dates[['issue_d','region','loan_amnt']])"
   ]
  },
  {
   "cell_type": "code",
   "execution_count": null,
   "metadata": {},
   "outputs": [],
   "source": [
    "df"
   ]
  },
  {
   "cell_type": "code",
   "execution_count": null,
   "metadata": {},
   "outputs": [],
   "source": [
    "#The number of loans that were classified as bad loans for each region by its loan status\n",
    "#This won't give us the exact reasons why a loan is categorized as a bad loan understand regions\n",
    "#Calculating bad loans\n",
    "badloans_df = df.loc[df[\"loan_condition\"] == \"Bad Loan\"]\n",
    "\n",
    "# loan_status cross\n",
    "loan_status_cross = pd.crosstab(badloans_df['region'], badloans_df['loan_status']).apply(lambda x: x/x.sum() * 100)\n",
    "number_of_loanstatus = pd.crosstab(badloans_df['region'], badloans_df['loan_status'])\n",
    "\n",
    "\n",
    "# Round our values\n",
    "#loan_status_cross['Charged Off'] = loan_status_cross['Charged Off'].apply(lambda x: round(x, 2))\n",
    "loan_status_cross['Default'] = loan_status_cross['Default'].apply(lambda x: round(x, 2))\n",
    "#loan_status_cross['Does not meet the credit policy. Status:Charged Off'] = loan_status_cross['Does not meet the credit policy. Status:Charged Off'].apply(lambda x: round(x, 2))\n",
    "loan_status_cross['In Grace Period'] = loan_status_cross['In Grace Period'].apply(lambda x: round(x, 2))\n",
    "loan_status_cross['Late (16-30 days)'] = loan_status_cross['Late (16-30 days)'].apply(lambda x: round(x, 2))\n",
    "loan_status_cross['Late (31-120 days)'] = loan_status_cross['Late (31-120 days)'].apply(lambda x: round(x, 2))\n",
    "\n",
    "\n",
    "number_of_loanstatus['Total'] = number_of_loanstatus.sum(axis=1) \n",
    "# number_of_badloans\n",
    "number_of_loanstatus"
   ]
  },
  {
   "cell_type": "code",
   "execution_count": null,
   "metadata": {},
   "outputs": [],
   "source": [
    "df['amt_difference'] = 'eq'\n",
    "df.loc[(df['funded_amnt'] - df['funded_amnt_inv']) > 0,'amt_difference'] = 'less'"
   ]
  },
  {
   "cell_type": "code",
   "execution_count": null,
   "metadata": {},
   "outputs": [],
   "source": [
    "#Interest rate is imp but changeable but interest grade not so will consider interest grade\n",
    "#Computing ratio ratio of number of open credit lines in borrower's credit file divided by total number of credit lines currently in borrower's credit file\n",
    "#This will provided insight on credibility of borrower to return amount \n",
    "\n",
    "# Make categorical\n",
    "\n",
    "df['delinq_2yrs_cat'] = 'no'\n",
    "df.loc[df['delinq_2yrs']> 0,'delinq_2yrs_cat'] = 'yes'\n",
    "\n",
    "df['inq_last_6mths_cat'] = 'no'\n",
    "df.loc[df['inq_last_6mths']> 0,'inq_last_6mths_cat'] = 'yes'\n",
    "\n",
    "df['pub_rec_cat'] = 'no'\n",
    "df.loc[df['pub_rec']> 0,'pub_rec_cat'] = 'yes'\n",
    "\n",
    "# Create new metric\n",
    "df['acc_ratio'] = df.open_acc / df.total_acc"
   ]
  },
  {
   "cell_type": "code",
   "execution_count": null,
   "metadata": {},
   "outputs": [],
   "source": [
    "df\n"
   ]
  },
  {
   "cell_type": "code",
   "execution_count": null,
   "metadata": {},
   "outputs": [],
   "source": [
    "df.to_csv('featuredEngineering.csv', sep=',', encoding='utf-8')"
   ]
  },
  {
   "cell_type": "code",
   "execution_count": null,
   "metadata": {},
   "outputs": [],
   "source": []
  }
 ],
 "metadata": {
  "kernelspec": {
   "display_name": "Python 3",
   "language": "python",
   "name": "python3"
  },
  "language_info": {
   "codemirror_mode": {
    "name": "ipython",
    "version": 3
   },
   "file_extension": ".py",
   "mimetype": "text/x-python",
   "name": "python",
   "nbconvert_exporter": "python",
   "pygments_lexer": "ipython3",
   "version": "3.7.1"
  }
 },
 "nbformat": 4,
 "nbformat_minor": 2
}
