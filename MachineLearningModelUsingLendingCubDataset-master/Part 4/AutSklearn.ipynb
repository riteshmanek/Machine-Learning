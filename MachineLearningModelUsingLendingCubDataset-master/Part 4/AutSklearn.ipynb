{
 "cells": [
  {
   "cell_type": "code",
   "execution_count": null,
   "metadata": {},
   "outputs": [],
   "source": [
    "# Import Necessary libraries\n",
    "import sklearn.model_selection\n",
    "import sklearn.datasets\n",
    "import sklearn.metrics\n",
    "import autosklearn.regression\n",
    "import pandas as pd\n",
    "import numpy as np\n",
    "from sklearn.model_selection import train_test_split"
   ]
  },
  {
   "cell_type": "code",
   "execution_count": null,
   "metadata": {},
   "outputs": [],
   "source": [
    "# Reading file\n",
    "data = pd.read_csv('featuredEngineering1.csv')\n",
    "data_sliced = data[:5000]\n",
    "\n",
    "# Target column\n",
    "interest_rate = data_sliced['target'].values\n",
    "\n",
    "# Dropping unwanted columns\n",
    "data_new = data_sliced.drop(['member_id', 'emp_length',  'delinq_2yrs', 'inq_last_6mths', 'open_acc', 'pub_rec', 'revol_bal',  'total_acc', 'last_pymnt_amnt', 'collections_12_mths_ex_med', 'acc_now_delinq', 'tot_coll_amt', 'tot_cur_bal', 'total_rev_hi_lim', 'home_ownership_ANY', 'home_ownership_MORTGAGE', 'home_ownership_NONE', 'home_ownership_OTHER', 'home_ownership_OWN', 'home_ownership_RENT', 'verification_status_Not Verified', 'verification_status_Source Verified', 'purpose_car', 'purpose_credit_card', 'purpose_educational', 'purpose_home_improvement', 'purpose_house', 'purpose_major_purchase', 'purpose_medical', 'purpose_moving', 'purpose_other', 'purpose_renewable_energy', 'purpose_small_business', 'purpose_vacation', 'purpose_wedding', 'term_ 36 months',  'acc_ratio', 'target','annual_inc'], axis=1)\n",
    "X_train, X_test, y_train, y_test = train_test_split(data_new, interest_rate, train_size=0.75, test_size=0.25)\n"
   ]
  },
  {
   "cell_type": "code",
   "execution_count": null,
   "metadata": {},
   "outputs": [],
   "source": [
    "# Import AutoSklearnRegressor\n",
    "from autosklearn.regression import AutoSklearnRegressor\n",
    "\n",
    "# Split train and test for columns\n",
    "X_train, X_test, y_train, y_test = sklearn.model_selection.train_test_split(data_new, interest_rate, random_state=1)\n",
    "automl = autosklearn.regression.AutoSklearnRegressor()\n",
    "automl.fit(X_train, y_train)\n",
    "\n",
    "y_hat = automl.predict(X_test)\n",
    "print(\"R2 score\", sklearn.metrics.r2_score(y_test, y_hat))"
   ]
  }
 ],
 "metadata": {
  "kernelspec": {
   "display_name": "Python 3",
   "language": "python",
   "name": "python3"
  },
  "language_info": {
   "codemirror_mode": {
    "name": "ipython",
    "version": 3
   },
   "file_extension": ".py",
   "mimetype": "text/x-python",
   "name": "python",
   "nbconvert_exporter": "python",
   "pygments_lexer": "ipython3",
   "version": "3.7.1"
  }
 },
 "nbformat": 4,
 "nbformat_minor": 2
}
