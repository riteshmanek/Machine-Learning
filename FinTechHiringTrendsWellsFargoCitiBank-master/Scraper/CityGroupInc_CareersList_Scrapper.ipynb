{
 "cells": [
  {
   "cell_type": "code",
   "execution_count": null,
   "metadata": {},
   "outputs": [],
   "source": [
    "#import \n",
    "\n",
    "from selenium import webdriver\n",
    "from selenium.webdriver.common.keys import Keys\n",
    "from bs4 import BeautifulSoup\n",
    "import re\n",
    "import pandas as pd\n",
    "import os\n",
    "import time\n",
    "import csv"
   ]
  },
  {
   "cell_type": "code",
   "execution_count": null,
   "metadata": {},
   "outputs": [],
   "source": [
    "#launch url\n",
    "url = \"https://jobs.citi.com/search-jobs\"\n",
    "\n",
    "# create a new Firefox session\n",
    "driver = webdriver.Chrome()\n",
    "driver.implicitly_wait(30)\n",
    "driver.get(url)\n",
    "\n",
    "#cookie_button = driver.find_element_by_id('gdpr-button')\n",
    "#cookie_button.click()"
   ]
  },
  {
   "cell_type": "code",
   "execution_count": null,
   "metadata": {},
   "outputs": [],
   "source": [
    "python_button = 0\n",
    "url_list = []\n",
    "\n",
    "for page in range(1,192):\n",
    "    soup_level1=BeautifulSoup(driver.page_source, 'lxml')\n",
    "    \n",
    "    for link in soup_level1.find_all( 'a', href=re.compile(\"/job//*\")):\n",
    "        url_list.append(link.get('href'))\n",
    "        \n",
    "    next_button = driver.find_element_by_xpath(\"//a[@class ='next']\")\n",
    "    next_button.click()\n",
    "    time.sleep(10)\n",
    "\n",
    "print(url_list)\n",
    "driver.quit()"
   ]
  },
  {
   "cell_type": "code",
   "execution_count": null,
   "metadata": {},
   "outputs": [],
   "source": [
    "with open('citigroup_jobs.csv', mode='w', encoding=\"utf-8\") as csv_file:\n",
    "    fieldnames = ['job_url', 'title', 'job_id', 'job_function', 'schedule', 'location', 'description']\n",
    "    writer = csv.DictWriter(csv_file, fieldnames=fieldnames)\n",
    "    writer.writeheader()\n",
    "    \n",
    "    for job_url in url_list:\n",
    "        company_url = \"https://jobs.citi.com\"\n",
    "        visit_url = company_url + job_url\n",
    "        #visit_url =\"https://jobs.citi.com/job/tampa/supervisory-principal/287/10788479\"\n",
    "        driver = webdriver.Chrome()\n",
    "        driver.get(visit_url)\n",
    "        soup =BeautifulSoup(driver.page_source, 'lxml')\n",
    "\n",
    "        title = soup.find('h2', itemprop = True)\n",
    "        if str(title) == 'None':\n",
    "            title = soup.find('h1', {'class':'ajd_header__job-title'})\n",
    "\n",
    "        job_id = soup.find('span', {'class':'job-description2 job-info'})\n",
    "        if str(job_id) == 'None':\n",
    "            job_id = soup.find('div',{'class':'ats-description ajd_job-details__ats-description'})\n",
    "        job_id_lvl1 = job_id.contents[1]\n",
    "        job_id_lvl2 = job_id_lvl1.contents[7]\n",
    "        job_id_lvl3 = job_id_lvl2.contents[1]\n",
    "\n",
    "        location_lvl1 = job_id_lvl1.contents[0]\n",
    "        location_lvl2 = location_lvl1.contents[1]\n",
    "\n",
    "        job_function_lvl1 = job_id.contents[1]\n",
    "        job_function_lvl2 = job_function_lvl1.contents[2]\n",
    "        job_function_lvl3 = job_function_lvl2.contents[1]\n",
    "\n",
    "        schedule_lvl1 = job_id.contents[1]\n",
    "        schedule_lvl2 = job_function_lvl1.contents[3]\n",
    "        schedule_lvl3 = schedule_lvl2.contents[1]\n",
    "\n",
    "        desc = soup.find('div', {'class':'ats-description'})\n",
    "\n",
    "        writer.writerow({'job_url':visit_url, 'title':title.get_text(), 'job_id':job_id_lvl3, 'job_function':job_function_lvl3, 'schedule':schedule_lvl3, 'location':location_lvl2, 'description':desc.get_text()})\n",
    "        driver.quit()"
   ]
  },
  {
   "cell_type": "code",
   "execution_count": null,
   "metadata": {},
   "outputs": [],
   "source": []
  },
  {
   "cell_type": "code",
   "execution_count": null,
   "metadata": {},
   "outputs": [],
   "source": []
  }
 ],
 "metadata": {
  "kernelspec": {
   "display_name": "Python 3",
   "language": "python",
   "name": "python3"
  },
  "language_info": {
   "codemirror_mode": {
    "name": "ipython",
    "version": 3
   },
   "file_extension": ".py",
   "mimetype": "text/x-python",
   "name": "python",
   "nbconvert_exporter": "python",
   "pygments_lexer": "ipython3",
   "version": "3.7.1"
  }
 },
 "nbformat": 4,
 "nbformat_minor": 2
}
