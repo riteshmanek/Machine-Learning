{
 "cells": [
  {
   "cell_type": "code",
   "execution_count": 1,
   "metadata": {},
   "outputs": [],
   "source": [
    "#import the desired packages\n",
    "\n",
    "import pandas as pd\n",
    "from pandas import ExcelWriter\n",
    "from pandas import ExcelFile\n",
    "from openpyxl.workbook import Workbook\n",
    "import re\n",
    "import csv"
   ]
  },
  {
   "cell_type": "code",
   "execution_count": 2,
   "metadata": {},
   "outputs": [],
   "source": [
    "#read the keyword and job description excel\n",
    "\n",
    "joblist_file = pd.read_excel('WellsFargo Job Postings.xlsx', sheet_name='Sheet1')\n",
    "keyword_file = pd.read_excel('tfidf-algo.xlsx', sheet_name='Sheet1')"
   ]
  },
  {
   "cell_type": "code",
   "execution_count": 3,
   "metadata": {},
   "outputs": [],
   "source": [
    "list = []\n",
    "with open('wellsfargo-tfidf-algo.csv',mode='w') as f: #create an empty file\n",
    "    f = csv.writer(f,delimiter = ',')\n",
    "    f.writerow(['JOB ID','Keyword','Count']) #specify the headers\n",
    "    for i in range (0, joblist_file.shape[0]): #iterate one job description through the each keywords\n",
    "        desc = joblist_file['description'][i]\n",
    "        for j in keyword_file['keywords']: #check the count of each keyword in the description\n",
    "            c = len(re.findall(j, desc))\n",
    "            list = [joblist_file['job_id'][i],j,c] #Add the values to list\n",
    "            f.writerow(list) #write list to the csv file"
   ]
  }
 ],
 "metadata": {
  "kernelspec": {
   "display_name": "Python 3",
   "language": "python",
   "name": "python3"
  },
  "language_info": {
   "codemirror_mode": {
    "name": "ipython",
    "version": 3
   },
   "file_extension": ".py",
   "mimetype": "text/x-python",
   "name": "python",
   "nbconvert_exporter": "python",
   "pygments_lexer": "ipython3",
   "version": "3.7.1"
  }
 },
 "nbformat": 4,
 "nbformat_minor": 2
}
