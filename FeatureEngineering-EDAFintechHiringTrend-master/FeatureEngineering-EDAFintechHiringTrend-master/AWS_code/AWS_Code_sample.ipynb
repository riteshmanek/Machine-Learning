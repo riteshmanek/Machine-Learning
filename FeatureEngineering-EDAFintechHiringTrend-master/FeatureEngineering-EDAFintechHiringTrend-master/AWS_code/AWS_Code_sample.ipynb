{
 "cells": [
  {
   "cell_type": "code",
   "execution_count": null,
   "metadata": {},
   "outputs": [],
   "source": [
    "#Deploying files to AWS S3\n",
    "import boto3"
   ]
  },
  {
   "cell_type": "code",
   "execution_count": null,
   "metadata": {},
   "outputs": [],
   "source": [
    "s3 = boto3.resource('s3')"
   ]
  },
  {
   "cell_type": "code",
   "execution_count": null,
   "metadata": {},
   "outputs": [],
   "source": [
    "s3.create_bucket(Bucket='banking-batch')"
   ]
  },
  {
   "cell_type": "code",
   "execution_count": null,
   "metadata": {},
   "outputs": [],
   "source": [
    "for bucket in s3.buckets.all():\n",
    "    print(bucket.name)"
   ]
  },
  {
   "cell_type": "code",
   "execution_count": null,
   "metadata": {},
   "outputs": [],
   "source": [
    "data = open('s3_abc.csv', 'rb')\n",
    "s3.Bucket('banking-batch').put_object(Key='s3_abc_XGB.csv', Body=data)"
   ]
  },
  {
   "cell_type": "code",
   "execution_count": null,
   "metadata": {},
   "outputs": [],
   "source": [
    "#reading files from S3\n",
    "import pandas as pd\n",
    "import boto\n",
    "import sys\n",
    "import dask.dataframe as dd\n",
    "from pandas import ExcelWriter\n",
    "from pandas import ExcelFile\n",
    "from openpyxl.workbook import Workbook\n",
    "import re\n",
    "import csv\n",
    "from fs_s3fs import S3FS\n",
    "\n",
    "df = pd.read_csv('s3://banking-batch/Team 1.csv')\n",
    "df = pd.read_excel('s3://banking-batch/Team 1.csv')"
   ]
  }
 ],
 "metadata": {
  "kernelspec": {
   "display_name": "Python 3",
   "language": "python",
   "name": "python3"
  },
  "language_info": {
   "codemirror_mode": {
    "name": "ipython",
    "version": 3
   },
   "file_extension": ".py",
   "mimetype": "text/x-python",
   "name": "python",
   "nbconvert_exporter": "python",
   "pygments_lexer": "ipython3",
   "version": "3.7.1"
  }
 },
 "nbformat": 4,
 "nbformat_minor": 2
}
